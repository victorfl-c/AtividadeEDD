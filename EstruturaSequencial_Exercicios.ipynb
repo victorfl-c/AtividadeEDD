{
  "nbformat": 4,
  "nbformat_minor": 0,
  "metadata": {
    "colab": {
      "provenance": [],
      "authorship_tag": "ABX9TyN7tnyrot2a/wy+diBB3bgk",
      "include_colab_link": true
    },
    "kernelspec": {
      "name": "python3",
      "display_name": "Python 3"
    },
    "language_info": {
      "name": "python"
    }
  },
  "cells": [
    {
      "cell_type": "markdown",
      "metadata": {
        "id": "view-in-github",
        "colab_type": "text"
      },
      "source": [
        "<a href=\"https://colab.research.google.com/github/victorfl-c/AtividadeEDD/blob/main/EstruturaSequencial_Exercicios.ipynb\" target=\"_parent\"><img src=\"https://colab.research.google.com/assets/colab-badge.svg\" alt=\"Open In Colab\"/></a>"
      ]
    },
    {
      "cell_type": "markdown",
      "source": [
        "1) Faça um Programa que mostre a mensagem \"Alo mundo\" na tela."
      ],
      "metadata": {
        "id": "hQd8ZxrP5YiB"
      }
    },
    {
      "cell_type": "code",
      "source": [
        "print(\"Hello World!\")"
      ],
      "metadata": {
        "colab": {
          "base_uri": "https://localhost:8080/"
        },
        "id": "ipF8VANc5nG5",
        "outputId": "16b1d2eb-09c3-4b3b-ada2-309bbfa04063"
      },
      "execution_count": null,
      "outputs": [
        {
          "output_type": "stream",
          "name": "stdout",
          "text": [
            "Hello World\n"
          ]
        }
      ]
    },
    {
      "cell_type": "markdown",
      "source": [
        "2)Faça um Programa que peça um número e então mostre a mensagem O número informado foi [número].\n",
        "\n"
      ],
      "metadata": {
        "id": "mHzhStHX5rpO"
      }
    },
    {
      "cell_type": "code",
      "source": [
        "numero = float(input(\"Informe o número: \"))\n",
        "\n",
        "print(f\"O número informado foi : {numero}\")"
      ],
      "metadata": {
        "colab": {
          "base_uri": "https://localhost:8080/"
        },
        "id": "Yv7dFItw6EGH",
        "outputId": "bdd7e193-1861-480d-b218-8ddc71ad7db6"
      },
      "execution_count": null,
      "outputs": [
        {
          "output_type": "stream",
          "name": "stdout",
          "text": [
            "Informe o número: 5\n",
            "O número informado foi : 5.0\n"
          ]
        }
      ]
    },
    {
      "cell_type": "markdown",
      "source": [
        "3) Faça um Programa que peça dois números e imprima a soma."
      ],
      "metadata": {
        "id": "pE36lHc7600Y"
      }
    },
    {
      "cell_type": "code",
      "source": [
        "numero = []\n",
        "\n",
        "try:\n",
        "  numero.append(float(input(\"Insira o primeiro número: \")))\n",
        "  numero.append(float(input(\"Insira o seguno número: \")))\n",
        "except ValueError:\n",
        "  print(\"Insira apenas números!\")\n",
        "else:\n",
        "  print(f\"Soma: {sum(numero)}\")\n",
        "  "
      ],
      "metadata": {
        "id": "xbb0H4Vv699z"
      },
      "execution_count": null,
      "outputs": []
    },
    {
      "cell_type": "markdown",
      "source": [
        "4) Faça um Programa que peça as 4 notas bimestrais e mostre a média."
      ],
      "metadata": {
        "id": "lQqbdPLF_UGO"
      }
    },
    {
      "cell_type": "code",
      "source": [
        "notas = []\n",
        "i = 0\n",
        "\n",
        "while i in range(4):\n",
        "  try:\n",
        "    notas.append(float(input(f\"Insira a {i+1}ª nota: \")))\n",
        "  except ValueError:\n",
        "    print(\"Insira uma nota válida!\")\n",
        "  else:\n",
        "    i += 1\n",
        "\n",
        "media = sum(notas) / len(notas)\n",
        "\n",
        "print(f\"Média: {media}\")"
      ],
      "metadata": {
        "id": "38CTSk--_Y9s"
      },
      "execution_count": null,
      "outputs": []
    },
    {
      "cell_type": "markdown",
      "source": [
        "5) Faça um Programa que converta metros para centímetros."
      ],
      "metadata": {
        "id": "VRDJZPaRBNbh"
      }
    },
    {
      "cell_type": "code",
      "source": [
        "m = float(input(\"Informe um valor em metros: \"))\n",
        "\n",
        "cm = m * 100\n",
        "\n",
        "print(f\"{m}m é igual a {cm}cm\")\n"
      ],
      "metadata": {
        "colab": {
          "base_uri": "https://localhost:8080/"
        },
        "id": "TVGV-7s_Baza",
        "outputId": "469a0d6e-b57b-407b-bf88-e7b9b3da0b50"
      },
      "execution_count": null,
      "outputs": [
        {
          "output_type": "stream",
          "name": "stdout",
          "text": [
            "Informe um valor em metros: 10\n",
            "10.0m é igual a 1000.0cm\n"
          ]
        }
      ]
    },
    {
      "cell_type": "markdown",
      "source": [
        "6) Faça um Programa que peça o raio de um círculo, calcule e mostre sua área."
      ],
      "metadata": {
        "id": "Ki15ec_bCd7j"
      }
    },
    {
      "cell_type": "code",
      "source": [
        "PI = 3.14\n",
        "raio = float(input(\"Digite o raio do círculo: \"))\n",
        "\n",
        "area = PI * (raio ** 2)\n",
        "\n",
        "print(f\"A área do círculo é de {area}m²\")"
      ],
      "metadata": {
        "colab": {
          "base_uri": "https://localhost:8080/"
        },
        "id": "8JYY4vXvCoGW",
        "outputId": "086ba3f5-5c13-461d-c835-e7c27dbf4a61"
      },
      "execution_count": null,
      "outputs": [
        {
          "output_type": "stream",
          "name": "stdout",
          "text": [
            "Digite o raio do círculo: 5\n",
            "A área do círculo é de 78.5m²\n"
          ]
        }
      ]
    },
    {
      "cell_type": "markdown",
      "source": [
        "7) Faça um Programa que calcule a área de um quadrado, em seguida mostre o dobro desta área para o usuário."
      ],
      "metadata": {
        "id": "-XofUjm8EHaV"
      }
    },
    {
      "cell_type": "code",
      "source": [
        "base = float(input(\"Informe o valor da base: \"))\n",
        "altura = float(input(\"Informe o valor da altura: \"))\n",
        "\n",
        "area = base * altura\n",
        "print(f\"Área: {area}m²\")\n",
        "\n",
        "dobro_area = area * 2\n",
        "print(f\"Dobro da área: {dobro_area}\")"
      ],
      "metadata": {
        "id": "Gyno9DxFEI6T"
      },
      "execution_count": null,
      "outputs": []
    },
    {
      "cell_type": "markdown",
      "source": [
        "8)Faça um Programa que pergunte quanto você ganha por hora e o número de horas trabalhadas no mês. Calcule e mostre o total do seu salário no referido mês.\n"
      ],
      "metadata": {
        "id": "H_noUTfbF5C7"
      }
    },
    {
      "cell_type": "code",
      "source": [
        "valor_por_hora = float(input(\"Quantos reais por hora você ganha: \"))\n",
        "horas_trabalhadas = int(input(\"Quantas horas trabalha por mês: \"))\n",
        "\n",
        "salario = valor_por_hora * horas_trabalhadas\n",
        "\n",
        "print(f\"Seu salário é de R${salario:.2f}\")"
      ],
      "metadata": {
        "colab": {
          "base_uri": "https://localhost:8080/"
        },
        "id": "9m__7HChF7cu",
        "outputId": "521e59a6-852f-4b53-a848-e19bc82fa549"
      },
      "execution_count": null,
      "outputs": [
        {
          "output_type": "stream",
          "name": "stdout",
          "text": [
            "Quantos reais por hora você ganha: 8\n",
            "Quantas horas trabalha por mês: 160\n",
            "Seu salário é de R$1280.00\n"
          ]
        }
      ]
    },
    {
      "cell_type": "markdown",
      "source": [
        "9) Faça um Programa que peça a temperatura em graus Fahrenheit, transforme e mostre a temperatura em graus Celsius.\n",
        "C = 5 * ((F-32) / 9)."
      ],
      "metadata": {
        "id": "Fi38jKaRGt5e"
      }
    },
    {
      "cell_type": "code",
      "source": [
        "f = float(input(\"Insira a temperatura em Fahrenheit ºF: \"))\n",
        "C = 5 * ((f-32) / 9)\n",
        "\n",
        "print(f\"{f} Fahrenheit é igual à  {C} Graus celsius\")\n",
        " "
      ],
      "metadata": {
        "colab": {
          "base_uri": "https://localhost:8080/"
        },
        "id": "9Xh4TNduGyZZ",
        "outputId": "c2c8f223-4c59-44b6-9afe-8213c9f4b5ac"
      },
      "execution_count": null,
      "outputs": [
        {
          "output_type": "stream",
          "name": "stdout",
          "text": [
            "Insira a temperatura em Fahrenheit ºF: 5\n",
            "5.0 Fahrenheit é igual à  -15.0 Graus celsius\n"
          ]
        }
      ]
    },
    {
      "cell_type": "markdown",
      "source": [
        "10) Faça um Programa que peça a temperatura em graus Celsius, transforme e mostre em graus Fahrenheit."
      ],
      "metadata": {
        "id": "SEdYy1eSQyp5"
      }
    },
    {
      "cell_type": "code",
      "source": [
        "c = float(input(\"Insira a temperatura em graus celsius: \"))\n",
        "F = (1.8 * c) + 32\n",
        "\n",
        "print(f\"{c} graus celsius é igual à  {F} Fahrenheit \")\n"
      ],
      "metadata": {
        "id": "06GqvmJrQ2eD"
      },
      "execution_count": null,
      "outputs": []
    },
    {
      "cell_type": "markdown",
      "source": [
        "11) Faça um Programa que peça 2 números inteiros e um número real. Calcule e mostre:\n",
        "\n",
        "1. o produto do dobro do primeiro com metade do segundo .\n",
        "2. a soma do triplo do primeiro com o terceiro.\n",
        "3. o terceiro elevado ao cubo.\n"
      ],
      "metadata": {
        "id": "OD4TAIzgR61V"
      }
    },
    {
      "cell_type": "code",
      "source": [
        "def calcular(inteiro1, inteiro2, real):\n",
        "  i = 0\n",
        "  calculo = 0\n",
        "  while i in range(3):\n",
        "    if i == 0:\n",
        "      calculo = (inteiro1 * 2) * (inteiro2 / 2)\n",
        "      print(f\"\\nO produto do dobro do primeiro com metade do segundo: {calculo}\")\n",
        "    elif i == 1:\n",
        "      calculo = (inteiro1 * 3) + real\n",
        "      print(f\"\\nSoma do triplo do primeiro com o terceiro: {calculo}\")\n",
        "    else:\n",
        "      calculo = real ** 3\n",
        "      print(f\"\\nO terceiro elevado ao cubo {calculo}\")\n",
        "    \n",
        "    i += 1\n",
        "\n",
        "\n",
        "inteiro1 = int(input(\"Insira o primeiro número inteiro: \"))\n",
        "inteiro2 = int(input(\"Insira o segundo número inteiro: \"))\n",
        "real = float(input(\"Insira um número real: \"))\n",
        "\n",
        "calcular(inteiro1, inteiro2, real)\n",
        "\n"
      ],
      "metadata": {
        "id": "wvJUTuztSTN6"
      },
      "execution_count": null,
      "outputs": []
    },
    {
      "cell_type": "markdown",
      "source": [
        "12) Tendo como dados de entrada a altura de uma pessoa, construa um algoritmo que calcule seu peso ideal, usando a seguinte fórmula: (72.7*altura) - 58"
      ],
      "metadata": {
        "id": "k7Yes8t9WmE7"
      }
    },
    {
      "cell_type": "code",
      "source": [
        "altura = float(input(\"Insira a altura: \"))\n",
        "peso_ideal = (72.7*altura) - 58\n",
        "\n",
        "print(f\"Seu peso ideal é: {peso_ideal:.3f} Kg\")"
      ],
      "metadata": {
        "colab": {
          "base_uri": "https://localhost:8080/"
        },
        "id": "tBDwf8tuWsNB",
        "outputId": "f7336282-1ee3-4886-f820-27fd47adb073"
      },
      "execution_count": null,
      "outputs": [
        {
          "output_type": "stream",
          "name": "stdout",
          "text": [
            "Insira a altura: 1.83\n",
            "Seu peso ideal é: 75.041 Kg\n"
          ]
        }
      ]
    },
    {
      "cell_type": "markdown",
      "source": [
        "13) Tendo como dado de entrada a altura (h) de uma pessoa, construa um algoritmo que calcule seu peso ideal, utilizando as seguintes fórmulas:\n",
        "1. Para homens: (72.7*h) - 58\n",
        "2. Para mulheres: (62.1*h) - 44.7\n",
        "\n"
      ],
      "metadata": {
        "id": "2QL0_5gUY1kh"
      }
    },
    {
      "cell_type": "code",
      "source": [
        "try:\n",
        "  h = float(input(\"Insira sua altura: \"))\n",
        "\n",
        "  sexo = input(\n",
        "  \"Qual o seu sexo:\\nDigite \\\n",
        "1 - Masculino\\nDigite \\\n",
        "2 - Feminino\\n\\\n",
        "Resposta: \"\n",
        ")\n",
        "\n",
        "  if sexo == '1':\n",
        "    peso_ideal = (72.7*h) - 58\n",
        "  elif sexo == '2':\n",
        "    peso_ideal = (62.1*h) - 44.7\n",
        "  else:\n",
        "    print(\"Opção inválida!\")\n",
        "\n",
        "  print(f\"Peso ideal: {peso_ideal:.3f} Kg\")\n",
        "\n",
        "except ValueError:\n",
        "  print(\"Insira uma altura com valor real!\")\n",
        "\n",
        "except NameError:\n",
        "  print(\"Insira 1 para Homem, e 2 para Mulher!\")\n"
      ],
      "metadata": {
        "id": "Sx8thq7GY3Yy",
        "colab": {
          "base_uri": "https://localhost:8080/"
        },
        "outputId": "3562d667-b284-40f6-d56d-e9ca62fe02a5"
      },
      "execution_count": null,
      "outputs": [
        {
          "output_type": "stream",
          "name": "stdout",
          "text": [
            "Insira sua altura: 1.82\n",
            "Qual o seu sexo:\n",
            "Digite 1 - Masculino\n",
            "Digite 2 - Feminino\n",
            "Resposta: 2\n",
            "Peso ideal: 68.322 Kg\n"
          ]
        }
      ]
    },
    {
      "cell_type": "markdown",
      "source": [
        "14) João Papo-de-Pescador, homem de bem, comprou um microcomputador para controlar o rendimento diário de seu trabalho. Toda vez que ele traz um peso de peixes maior que o estabelecido pelo regulamento de pesca do estado de São Paulo (50 quilos) deve pagar uma multa de R$ 4,00 por quilo excedente. João precisa que você faça um programa que leia a variável peso (peso de peixes) e calcule o excesso. Gravar na variável excesso a quantidade de quilos além do limite e na variável multa o valor da multa que João deverá pagar. Imprima os dados do programa com as mensagens adequadas."
      ],
      "metadata": {
        "id": "tBnUGFVQb4hS"
      }
    },
    {
      "cell_type": "code",
      "source": [
        "peso_limite = 50.0\n",
        "multa_Kg = 4.0\n",
        "\n",
        "peso_peixe = float(input(\"Informe o peso: \"))\n",
        "\n",
        "excesso = peso_peixe - peso_limite\n",
        "if peso_peixe - peso_limite < 0:\n",
        "  excesso = 0\n",
        "\n",
        "if peso_peixe > peso_limite:\n",
        "  multa_total = excesso * multa_Kg\n",
        "else:\n",
        "  multa_total = 0\n",
        "\n",
        "print(\n",
        "    f\"\\nPeso total: {peso_peixe:.2f}Kg\\\n",
        "    \\nExcesso de peso: {excesso:.2f}Kg\\\n",
        "    \\nMulta: R${multa_total:.2f}\"\n",
        "    )\n",
        "\n"
      ],
      "metadata": {
        "colab": {
          "base_uri": "https://localhost:8080/"
        },
        "id": "g419p0ceb8U6",
        "outputId": "c3357c20-806a-4f60-b413-79dadb8693b4"
      },
      "execution_count": null,
      "outputs": [
        {
          "output_type": "stream",
          "name": "stdout",
          "text": [
            "Informe o peso: 52\n",
            "Peso total: 52.0Kg    \n",
            "Excesso de peso: 2.0Kg    \n",
            "Multa: R$8.0\n"
          ]
        }
      ]
    },
    {
      "cell_type": "markdown",
      "source": [
        "15) Faça um Programa que pergunte quanto você ganha por hora e o número de horas trabalhadas no mês. Calcule e mostre o total do seu salário no referido mês, sabendo-se que são descontados 11% para o Imposto de Renda, 8% para o INSS e 5% para o sindicato, faça um programa que nos dê:\n",
        "1. salário bruto.\n",
        "2. quanto pagou ao INSS.\n",
        "3. quanto pagou ao sindicato.\n",
        "4. o salário líquido.\n",
        "5. calcule os descontos e o salário líquido, conforme a tabela abaixo:\n"
      ],
      "metadata": {
        "id": "JcWcatONfp-u"
      }
    },
    {
      "cell_type": "code",
      "source": [
        "'''\n",
        "+ Salário Bruto : R$\n",
        "- IR (11%) : R$\n",
        "- INSS (8%) : R$\n",
        "- Sindicato ( 5%) : R$\n",
        "= Salário Liquido : R$\n",
        "'''\n",
        "\n",
        "salario_bruto = float(input(\"Informe o salário bruto: \"))\n",
        "\n",
        "IR = salario_bruto * 0.11\n",
        "INSS = salario_bruto * 0.08\n",
        "SINDICATO = salario_bruto * 0.05\n",
        "descontos = (IR + INSS + SINDICATO)\n",
        "salario_liquido = salario_bruto - descontos\n",
        "\n",
        "print(\n",
        "    f\"\\n+ Salário bruto: R$ {salario_bruto:.2f}\\\n",
        "    \\n- IR(11%): R$ {IR:.2f}\\\n",
        "    \\n- INSS(8%): R$ {INSS:.2f}\\\n",
        "    \\n- Sindicato(5%): R$ {SINDICATO:.2f}\\\n",
        "    \\n= Salário liquido: R$ {salario_liquido:.2f}\"\n",
        "    )"
      ],
      "metadata": {
        "colab": {
          "base_uri": "https://localhost:8080/"
        },
        "id": "EUkEGxYZgf6R",
        "outputId": "0ba08fc9-fc9e-4c08-e5a7-a6f660373ce6"
      },
      "execution_count": null,
      "outputs": [
        {
          "output_type": "stream",
          "name": "stdout",
          "text": [
            "Informe o salário bruto: 2500\n",
            "\n",
            "+ Salário bruto: R$ 2500.00    \n",
            "- IR(11%): R$ 275.00    \n",
            "- INSS(8%): R$ 200.00    \n",
            "- Sindicato(5%): R$ 125.00    \n",
            "= Salário liquido: R$ 1900.00\n"
          ]
        }
      ]
    },
    {
      "cell_type": "markdown",
      "source": [
        "16) Faça um programa para uma loja de tintas. O programa deverá pedir o tamanho em metros quadrados da área a ser pintada. Considere que a cobertura da tinta é de 1 litro para cada 3 metros quadrados e que a tinta é vendida em latas de 18 litros, que custam R$ 80,00. Informe ao usuário a quantidades de latas de tinta a serem compradas e o preço total."
      ],
      "metadata": {
        "id": "zgsUd9fQjuXt"
      }
    },
    {
      "cell_type": "code",
      "source": [
        "def Arredondar(n):\n",
        "    return int(n + (0 if n % 1 ==  0 else 1))\n",
        "\n",
        "area = float(input(\"Informe a área em metros quadrados à ser pintada: \"))\n",
        "quantidade_latas = 0\n",
        "litros_lata = 18\n",
        "preco_lata = 80.0\n",
        "\n",
        "# A cobertura da tinta é de 1 litro para 3 metros quadrados\n",
        "\n",
        "litros_gastos = area / 3\n",
        "\n",
        "if litros_gastos <= litros_lata:\n",
        "  quantidade_latas = 1\n",
        "else:\n",
        "  quantidade_latas = Arredondar(litros_gastos / litros_lata)\n",
        "\n",
        "preco_total = quantidade_latas * preco_lata\n",
        "\n",
        "print(\n",
        "    f\"\\nQuantidade de latas: {quantidade_latas}\\\n",
        "    \\nPreco total: R$ {preco_total:.2f}\")\n"
      ],
      "metadata": {
        "colab": {
          "base_uri": "https://localhost:8080/"
        },
        "id": "69rBsYGDjzPf",
        "outputId": "fffb0d20-80aa-4a1f-a468-c05ca0117553"
      },
      "execution_count": null,
      "outputs": [
        {
          "output_type": "stream",
          "name": "stdout",
          "text": [
            "Informe a área em metros quadrados à ser pintada: 400\n",
            "\n",
            "Quantidade de latas: 8    \n",
            "Preco total: R$ 640.00\n"
          ]
        }
      ]
    },
    {
      "cell_type": "markdown",
      "source": [
        "17) Faça um Programa para uma loja de tintas. O programa deverá pedir o tamanho em metros quadrados da área a ser pintada. Considere que a cobertura da tinta é de 1 litro para cada 6 metros quadrados e que a tinta é vendida em latas de 18 litros, que custam RS 80,00 ou em galões de 3,6 litros, que custam RS 25,00.\n",
        "Informe ao usuário as quantidades de tinta a serem compradas e os respectivos preços em 3 situações:\n",
        "1. comprar apenas latas de 18 litros;\n",
        "2. comprar apenas galões de 3,6 litros;\n",
        "3. misturar latas e galões, de forma que o desperdício de tinta seja menor. Acrescente 10% de folga e sempre arredonde os valores para cima, isto é, considere latas cheias."
      ],
      "metadata": {
        "id": "INlsP6kUjU7d"
      }
    },
    {
      "cell_type": "code",
      "source": [
        "tamanho = float(input(\"Informe o tamanho da área em metros quadrados: \"))\n",
        "\n",
        "litros = (tamanho / 6) * 1.1 # Folga de 10% = *1.1\n",
        "litro_lata = 18\n",
        "preco_lata = 80.0\n",
        "litro_galao = 3.6\n",
        "preco_galao = 25.0\n",
        "\n",
        "# Latas\n",
        "latas = int(litros / litro_lata)\n",
        "if latas % litro_lata != 0:\n",
        "  latas += 1\n",
        "\n",
        "preco_total_latas = latas * preco_lata\n",
        "\n",
        "# Galão\n",
        "galao = int(litros / litro_galao)\n",
        "if galao % litro_galao != 0:\n",
        "  galao += 1\n",
        "\n",
        "preco_total_galoes = galao * preco_galao\n",
        "\n",
        "# Mistura\n",
        "mistura_lata = int(litros / litro_lata)\n",
        "mistura_galao = int((litros - (mistura_lata * litro_lata)) / litro_galao)\n",
        "if litros - (mistura_lata * litro_lata) % litro_galao != 0:\n",
        "  mistura_galao +=1\n",
        "\n",
        "preco_total = (mistura_lata * preco_lata) + (mistura_galao * preco_galao)\n",
        "\n",
        "print(\n",
        "    f'''\\n*----------------------------------------------*\n",
        "    \\nQuantidade de litros necessário: {litros:.0f}L\n",
        "    \\nApenas latões de 18L: {latas:.0f} und\n",
        "    \\nPreço: R${preco_total_latas:.2f}\n",
        "    \\nApenas galões de 3.6L: {galao:.0f} und\n",
        "    \\nPreço: R${preco_total_galoes:.2f}\n",
        "    \\nMistura: {mistura_lata:.0f} latões e {mistura_galao:.0f} galões\n",
        "    \\nPreço: R${preco_total:.2f}\n",
        "    \\n*-----------------------------------------------*'''\n",
        "    )"
      ],
      "metadata": {
        "colab": {
          "base_uri": "https://localhost:8080/"
        },
        "id": "HMpXNcE4RLXn",
        "outputId": "fb7a25e1-540e-4083-9f6a-6a1cdf2b36ce"
      },
      "execution_count": null,
      "outputs": [
        {
          "output_type": "stream",
          "name": "stdout",
          "text": [
            "Informe o tamanho da área em metros quadrados: 600\n",
            "\n",
            "*----------------------------------------------*\n",
            "    \n",
            "Quantidade de litros necessário: 110L\n",
            "    \n",
            "Apenas latões de 18L: 7 und\n",
            "    \n",
            "Preço: R$560.00\n",
            "    \n",
            "Apenas galões de 3.6L: 31 und\n",
            "    \n",
            "Preço: R$775.00\n",
            "    \n",
            "Mistura: 6 latões e 1 galões\n",
            "    \n",
            "Preço: R$505.00\n",
            "    \n",
            "*-----------------------------------------------*\n"
          ]
        }
      ]
    },
    {
      "cell_type": "markdown",
      "source": [
        "18)Faça um programa que peça o tamanho de um arquivo para download (em MB) e a velocidade de um link de Internet (em Mbps), calcule e informe o tempo aproximado de download do arquivo usando este link (em minutos)."
      ],
      "metadata": {
        "id": "7iTGnuFSxR24"
      }
    },
    {
      "cell_type": "code",
      "source": [
        "tamanho = float(input(\"Insira o tamanho do arquivo em MB: \"))\n",
        "velocidade = float(input(\"Insira a velocidade do link em MBps\"))\n",
        "\n",
        "tempo = (tamanho / velocidade) / 60\n",
        "\n",
        "print(f\"O arquivo levará {tempo:.2f} minutos para se concluído.\")"
      ],
      "metadata": {
        "colab": {
          "base_uri": "https://localhost:8080/"
        },
        "id": "T8IXf1jJxVZR",
        "outputId": "5eb1f171-d961-4911-a86c-a87904a786a5"
      },
      "execution_count": null,
      "outputs": [
        {
          "output_type": "stream",
          "name": "stdout",
          "text": [
            "Insira o tamanho do arquivo em MB: 500\n",
            "Insira a velocidade do link em MBps10\n",
            "O arquivo levará 50.00 minutos para se concluído.\n"
          ]
        }
      ]
    }
  ]
}